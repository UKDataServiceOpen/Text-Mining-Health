{
 "cells": [
  {
   "cell_type": "markdown",
   "id": "0f116492",
   "metadata": {
    "toc": true
   },
   "source": [
    "<h1>Table of Contents<span class=\"tocSkip\"></span></h1>\n",
    "<div class=\"toc\"><ul class=\"toc-item\"></ul></div>"
   ]
  },
  {
   "cell_type": "code",
   "execution_count": 1,
   "id": "f1d8387c",
   "metadata": {},
   "outputs": [],
   "source": [
    "from bs4 import BeautifulSoup\n",
    "import requests\n",
    "import pandas as pd"
   ]
  },
  {
   "cell_type": "code",
   "execution_count": 2,
   "id": "b1978e44",
   "metadata": {},
   "outputs": [],
   "source": [
    "def get_links():\n",
    "    LINKS = []\n",
    "    url = 'https://www.bbc.com'\n",
    "    response = requests.get(url)\n",
    "    soup = BeautifulSoup(response.text, features='lxml')\n",
    "    for html in soup.find_all('li', class_='media-list__item'):\n",
    "        link = html.find('a').get('href')\n",
    "        \n",
    "#         if 'live' not in link:\n",
    "            \n",
    "        if \"https://\" in link:\n",
    "            LINKS.append(link)\n",
    "        else:\n",
    "            link = url + link\n",
    "            LINKS.append(link)\n",
    "    return LINKS"
   ]
  },
  {
   "cell_type": "code",
   "execution_count": 3,
   "id": "fd7629bb",
   "metadata": {},
   "outputs": [],
   "source": [
    "links = get_links()"
   ]
  },
  {
   "cell_type": "code",
   "execution_count": 4,
   "id": "733a8ad6",
   "metadata": {},
   "outputs": [
    {
     "data": {
      "text/plain": [
       "['https://www.bbc.com/news/uk-63819482',\n",
       " 'https://www.bbc.com/sport/football/63816843',\n",
       " 'https://www.bbc.com/news/uk-63808613',\n",
       " 'https://www.bbc.com/worklife/article/20221130-the-remote-helicopter-bosses-who-stunt-worker-resilience',\n",
       " 'https://www.bbc.com/travel/article/20221130-mchon-the-french-breakfast-you-dont-know',\n",
       " 'https://www.bbc.com/news/world-asia-china-63805188',\n",
       " 'https://www.bbc.com/news/technology-63817522',\n",
       " 'https://www.bbc.com/news/world-latin-america-63817378',\n",
       " 'https://www.bbc.com/sport/cricket/63819110',\n",
       " 'https://www.bbc.com/sport/live/football/63710061',\n",
       " 'https://www.bbc.com/sport/football/63821327',\n",
       " 'https://www.bbc.com/news/world-63796634',\n",
       " 'https://www.bbc.com/sport/av/football/63812074',\n",
       " 'https://www.bbc.com/sport/football/63725316',\n",
       " 'https://www.bbc.com/reel/video/p0dgscd7/nalingi-yo-why-the-word-love-holds-so-much-power',\n",
       " 'https://www.bbc.com/reel/video/p0dkn40f/the-dark-history-of-comuna-13',\n",
       " 'https://www.bbc.com/reel/video/p0dkqj18/oath-keepers-how-i-escaped-my-father-s-militia-',\n",
       " 'https://www.bbc.com/future/article/20221130-the-polar-dinosaurs-revealing-ancient-secrets',\n",
       " 'https://www.bbc.com/travel/article/20221129-the-uk-train-that-shouldnt-exist',\n",
       " 'https://www.bbc.com/culture/article/20221130-vermeers-secrets-why-were-fascinated-by-art-fakes',\n",
       " 'https://www.bbc.com/worklife/article/20221129-the-trust-crisis-facing-women-leaders',\n",
       " 'https://www.bbc.com/news/entertainment-arts-63816303',\n",
       " 'https://www.bbc.com/news/uk-england-cambridgeshire-63809867',\n",
       " 'https://www.bbc.com/news/world-europe-63754808',\n",
       " 'https://www.bbc.com/future/article/20221129-the-alpine-villages-producing-their-own-power',\n",
       " 'https://www.bbc.com/future/article/20221122-should-we-get-rid-of-air-miles-for-climate-change',\n",
       " 'https://www.bbc.com/future/article/20221116-the-floating-solar-panels-that-track-the-sun',\n",
       " 'https://www.bbc.com/news/entertainment-arts-63809720',\n",
       " 'https://www.bbc.com/news/technology-63816454',\n",
       " 'https://www.bbc.com/news/business-63817499',\n",
       " 'https://www.bbc.com/news/science-environment-63809620',\n",
       " 'https://www.bbc.com/news/health-63749586',\n",
       " 'https://www.bbc.com/news/technology-63815356',\n",
       " 'https://www.bbc.com/news/world-africa-63797178',\n",
       " 'https://www.bbc.com/news/in-pictures-63820551',\n",
       " 'https://www.bbc.com/news/world-asia-india-63705190',\n",
       " 'https://www.bbc.com/news/uk-england-essex-63699954',\n",
       " 'https://www.bbc.com/news/world-africa-63741555',\n",
       " 'https://www.bbc.com/news/in-pictures-63714611']"
      ]
     },
     "execution_count": 4,
     "metadata": {},
     "output_type": "execute_result"
    }
   ],
   "source": [
    "# News on the main page\n",
    "\n",
    "links"
   ]
  },
  {
   "cell_type": "code",
   "execution_count": 5,
   "id": "9a60e442",
   "metadata": {},
   "outputs": [],
   "source": [
    "headings = []\n",
    "text = []\n",
    "\n",
    "def get_page(url):\n",
    "\n",
    "    \n",
    "\n",
    "    response = requests.get(url)\n",
    "    soup = BeautifulSoup(response.text, features='lxml')\n",
    "    head = soup.find('h1', {\"id\": \"main-heading\"}) or soup.find('div', {'class': 'article-headline__text b-reith-sans-font b-font-weight-300'}) or soup.find('title')\n",
    "    heading = head.string\n",
    "    headings.append(heading)\n",
    "    print(\"HEADING\", heading)\n",
    "    \n",
    "    blocks = []\n",
    "    for block in soup.find_all('div', {\"data-component\": \"text-block\"}) or soup.find_all('div', {\"class\": \"body-text-card b-reith-sans-font\"}) or soup.find_all('div', {\"class\": \"ssrcss-1n5sg88-StyledSummary elwf6ac3\"}) or soup.find_all('h3', {\"class\": \"lx-stream-post__header-title gel-great-primer-bold qa-post-title gs-u-mt0 gs-u-mb-\"}):\n",
    "        blocks.append(block.getText())\n",
    "        print(\"BLOCK:\", block.getText())\n",
    "        \n",
    "    text.append(blocks)\n",
    "    \n",
    "    \n",
    "    return headings, text"
   ]
  },
  {
   "cell_type": "code",
   "execution_count": 6,
   "id": "4c2a0de8",
   "metadata": {},
   "outputs": [],
   "source": [
    "trial = ['https://www.bbc.com/news/live/world-asia-63776816', 'https://www.bbc.com/news/world-latin-america-63778819']"
   ]
  },
  {
   "cell_type": "code",
   "execution_count": 7,
   "id": "e550fb17",
   "metadata": {},
   "outputs": [
    {
     "name": "stdout",
     "output_type": "stream",
     "text": [
      "HEADING China Covid protests: Security tightened in China after widespread Covid protests - BBC News\n",
      "BLOCK: We're pausing our coverage\n",
      "BLOCK: 'It's starting to be a national movement'\n",
      "BLOCK: Turmoil at iPhone plant affecting production\n",
      "BLOCK: British PM needs to set out approach to China - MP\n",
      "BLOCK: Turkey calls on China to share causes of Urumqi fire\n",
      "BLOCK: How many people have been vaccinated in China?\n",
      "BLOCK: China's economic growth being determined by Covid rules\n",
      "BLOCK: What's the latest?\n",
      "BLOCK: No one should be detained for peacefully protesting - UN\n",
      "BLOCK: China's censorship machine in overdrive\n",
      "BLOCK: Global stocks down after China's protests\n",
      "BLOCK: Blank paper becomes symbol of rare demonstrations\n",
      "BLOCK: 'Road map out of Covid policies needed'\n",
      "BLOCK: Vigils held in Hong Kong to mourn fire victims\n",
      "BLOCK: Covid policy 'pushed people to the limit'\n",
      "BLOCK: 'Harsh response' will be given to Xi Jinping protesters\n",
      "BLOCK: Chinese TV censors shots of fans in this afternoon's World Cup encounter\n",
      "BLOCK: Protests are evidence people are unhappy - UK\n",
      "BLOCK: Watch: Driving through Beijing streets lined with protesters and police\n",
      "BLOCK: What demands are circulating on social media?\n",
      "HEADING Ecuador gangs: Gunmen storm hospital in attempt to kill teen\n",
      "BLOCK: Police in Ecuador have arrested seven gunmen who stormed a hospital in an attempt to kill a teen being treated there. \n",
      "BLOCK: Gang members took nurses hostage and exchanged fire with police before they were detained.\n",
      "BLOCK: All hostages were freed and no one was injured, officials said.\n",
      "BLOCK: The 17-year-old target of the attack, known as \"Dirty Face\", is thought to be a rival gang member who is in intensive care recovering from bullet wounds.\n",
      "BLOCK: The gunmen held five staff members hostage for more than an hour, one employee told local newspaper El Diario.\n",
      "BLOCK: Video circulating on social media appears to show balaclava-clad men holding guns and briefly shoving a screaming woman through one of the hospital's exit doors before dragging her back into the building.\n",
      "BLOCK: Other hospital employees at the hospital in the town of Chone, in western Ecuador, said they had locked themselves in rooms while the gunmen broke down doors in search for the teenager. \n",
      "BLOCK: \"They didn't know the hospital layout, it seems, and that's why these delinquents were roaming through the entire hospital,\" Homero Andrade, who represents employees at the hospital, told El Diario.\n",
      "BLOCK: \"Thanks to God and to the police we're still here to tell the tale,\" Mr Andrade said.  \n",
      "BLOCK: Ecuador's President Guillermo Lasso also thanked the police, saying that their intervention had saved lives. \n",
      "BLOCK: The president shared footage on Twitter showing armed officers poised to enter the building ahead of the arrests. \n",
      "BLOCK: Gang violence in Ecuador has grown sharply in recent years, including gruesome tactics such as decapitations, and there has been a series of deadly prison riots.\n",
      "BLOCK: Analysts think that this spike in violence is partly due to violent Mexican cartels expanding to Ecuador where they recruit local gangs to smuggle cocaine.\n",
      "BLOCK: President Lasso has declared a state of emergency multiple times since he took office last year, in an attempt to tackle the sharp rise in violence.\n",
      "BLOCK: In early November, he said attacks by increasingly powerful drug gangs were a declaration of war.\n"
     ]
    }
   ],
   "source": [
    "for i in trial:\n",
    "    a, b = get_page(i)"
   ]
  },
  {
   "cell_type": "code",
   "execution_count": 8,
   "id": "48e3f686",
   "metadata": {},
   "outputs": [
    {
     "ename": "SyntaxError",
     "evalue": "unexpected EOF while parsing (3633179260.py, line 7)",
     "output_type": "error",
     "traceback": [
      "\u001b[0;36m  Input \u001b[0;32mIn [8]\u001b[0;36m\u001b[0m\n\u001b[0;31m    \u001b[0m\n\u001b[0m    ^\u001b[0m\n\u001b[0;31mSyntaxError\u001b[0m\u001b[0;31m:\u001b[0m unexpected EOF while parsing\n"
     ]
    }
   ],
   "source": [
    "for link in get_links():\n",
    "    if \"/news/\" in link:\n",
    "        print(link)\n",
    "        headings, text = get_page(link)\n",
    "        if \"/sport/\" in link:\n",
    "            \n",
    "        "
   ]
  },
  {
   "cell_type": "code",
   "execution_count": null,
   "id": "3d43a131",
   "metadata": {},
   "outputs": [],
   "source": [
    "len(headings)"
   ]
  },
  {
   "cell_type": "code",
   "execution_count": null,
   "id": "32e481f8",
   "metadata": {},
   "outputs": [],
   "source": [
    "len(text)"
   ]
  },
  {
   "cell_type": "code",
   "execution_count": null,
   "id": "5e0bf93c",
   "metadata": {},
   "outputs": [],
   "source": [
    "headings"
   ]
  },
  {
   "cell_type": "code",
   "execution_count": null,
   "id": "fffe6570",
   "metadata": {},
   "outputs": [],
   "source": [
    "d = {'Headlines': headings, 'Text': text}\n",
    "df = pd.DataFrame(data=d)\n",
    "\n",
    "df"
   ]
  },
  {
   "cell_type": "code",
   "execution_count": null,
   "id": "c5371cc0",
   "metadata": {
    "scrolled": false
   },
   "outputs": [],
   "source": [
    "pd.set_option('display.max_rows', 1000)\n",
    "df"
   ]
  }
 ],
 "metadata": {
  "kernelspec": {
   "display_name": "Python 3 (ipykernel)",
   "language": "python",
   "name": "python3"
  },
  "language_info": {
   "codemirror_mode": {
    "name": "ipython",
    "version": 3
   },
   "file_extension": ".py",
   "mimetype": "text/x-python",
   "name": "python",
   "nbconvert_exporter": "python",
   "pygments_lexer": "ipython3",
   "version": "3.8.13"
  },
  "toc": {
   "base_numbering": 1,
   "nav_menu": {},
   "number_sections": true,
   "sideBar": true,
   "skip_h1_title": false,
   "title_cell": "Table of Contents",
   "title_sidebar": "Contents",
   "toc_cell": true,
   "toc_position": {},
   "toc_section_display": true,
   "toc_window_display": false
  },
  "varInspector": {
   "cols": {
    "lenName": 16,
    "lenType": 16,
    "lenVar": 40
   },
   "kernels_config": {
    "python": {
     "delete_cmd_postfix": "",
     "delete_cmd_prefix": "del ",
     "library": "var_list.py",
     "varRefreshCmd": "print(var_dic_list())"
    },
    "r": {
     "delete_cmd_postfix": ") ",
     "delete_cmd_prefix": "rm(",
     "library": "var_list.r",
     "varRefreshCmd": "cat(var_dic_list()) "
    }
   },
   "types_to_exclude": [
    "module",
    "function",
    "builtin_function_or_method",
    "instance",
    "_Feature"
   ],
   "window_display": false
  }
 },
 "nbformat": 4,
 "nbformat_minor": 5
}
